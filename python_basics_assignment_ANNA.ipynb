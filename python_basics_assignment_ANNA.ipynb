{
 "cells": [
  {
   "cell_type": "markdown",
   "id": "d2328cad",
   "metadata": {},
   "source": [
    "# Python Basics Assignment\n",
    "\n",
    "This notebook contains 20 basic Python questions.  \n",
    "Each question carries **1 mark**. Write your answer in the cell provided.  \n"
   ]
  },
  {
   "cell_type": "markdown",
   "id": "cb537954",
   "metadata": {},
   "source": [
    "### Question 1\n",
    "Write a function that returns the square of a number."
   ]
  },
  {
   "cell_type": "code",
   "execution_count": 2,
   "id": "cf213ba2",
   "metadata": {},
   "outputs": [
    {
     "name": "stdout",
     "output_type": "stream",
     "text": [
      "Square of the number is: 841\n"
     ]
    }
   ],
   "source": [
    "# Your code here\n",
    "\n",
    "def square_of_number(x):\n",
    "    return x**2\n",
    "\n",
    "Result = square_of_number(29)\n",
    "print(\"Square of the number is:\", Result)\n",
    "\n",
    "\n",
    "\n",
    "\n",
    "\n"
   ]
  },
  {
   "cell_type": "markdown",
   "id": "4eaff430",
   "metadata": {},
   "source": [
    "### Question 2\n",
    "Write a function that checks whether a number is even."
   ]
  },
  {
   "cell_type": "code",
   "execution_count": 3,
   "id": "81934cf7",
   "metadata": {},
   "outputs": [
    {
     "name": "stdout",
     "output_type": "stream",
     "text": [
      " The given number is: The Number is ODD\n",
      " The given number is: The Number is EVEN\n"
     ]
    }
   ],
   "source": [
    "# Your code here\n",
    "def Number_is_even(num):\n",
    "    if num % 2==0:\n",
    "        return \"The Number is EVEN\"\n",
    "    else:\n",
    "        return \"The Number is ODD\"\n",
    "    \n",
    "print(\" The given number is:\",Number_is_even(7))  \n",
    "print(\" The given number is:\",Number_is_even(18)) \n",
    "\n",
    "\n",
    "\n",
    "   "
   ]
  },
  {
   "cell_type": "markdown",
   "id": "5f061e50",
   "metadata": {},
   "source": [
    "### Question 3\n",
    "Write a function to return the maximum of two numbers."
   ]
  },
  {
   "cell_type": "code",
   "execution_count": 4,
   "id": "44e2a596",
   "metadata": {},
   "outputs": [
    {
     "name": "stdout",
     "output_type": "stream",
     "text": [
      " The Maximum of numbers (305, 50.6) is: 305\n"
     ]
    }
   ],
   "source": [
    "# Your code here\n",
    "def maximum_of_numbers(a, b):\n",
    "    return max(a, b)\n",
    "    \n",
    "print(\" The Maximum of numbers (305, 50.6) is:\", maximum_of_numbers(305, 50.6) )    "
   ]
  },
  {
   "cell_type": "markdown",
   "id": "7513ca91",
   "metadata": {},
   "source": [
    "### Question 4\n",
    "Write a function to return the factorial of a number."
   ]
  },
  {
   "cell_type": "code",
   "execution_count": 23,
   "id": "6617842f",
   "metadata": {},
   "outputs": [
    {
     "name": "stdout",
     "output_type": "stream",
     "text": [
      "The Factorial of  w is:  No Factorial\n",
      "The Factorial of  v is:  1\n",
      "The Factorial of  z is:  720\n"
     ]
    }
   ],
   "source": [
    "# Your code here\n",
    "def Factorial_of_number(x):\n",
    "    if x < 0:\n",
    "        return \"No Factorial\"\n",
    "    elif x==0  or  x==1:\n",
    "        return \"1\"\n",
    "    else:\n",
    "        y = 1\n",
    "        for i in range(1, x+1):\n",
    "            y = y*i\n",
    "        return y\n",
    "\n",
    "w = -8\n",
    "print(\"The Factorial of  w is: \",Factorial_of_number(w) )  \n",
    "v = 0\n",
    "print(\"The Factorial of  v is: \",Factorial_of_number(v) )  \n",
    "z = 6\n",
    "print(\"The Factorial of  z is: \",Factorial_of_number(z) )  \n",
    "\n",
    "\n",
    "\n"
   ]
  },
  {
   "cell_type": "markdown",
   "id": "9b942098",
   "metadata": {},
   "source": [
    "### Question 5\n",
    "Write a function to reverse a string."
   ]
  },
  {
   "cell_type": "code",
   "execution_count": 6,
   "id": "d606b194",
   "metadata": {},
   "outputs": [
    {
     "name": "stdout",
     "output_type": "stream",
     "text": [
      " The reversed string is: olleH\n",
      " The reversed string is: ..!YARRUH \n"
     ]
    }
   ],
   "source": [
    "# Your code here\n",
    "def Reverse_String(R):\n",
    "    return R[::-1]\n",
    "\n",
    "\n",
    "Reverse = Reverse_String(\"Hello\")\n",
    "print(\" The reversed string is:\", Reverse)\n",
    "print(\" The reversed string is:\", Reverse_String(\" HURRAY!..\"))\n",
    "\n",
    "    "
   ]
  },
  {
   "cell_type": "markdown",
   "id": "1abd915b",
   "metadata": {},
   "source": [
    "### Question 6\n",
    "Write a function to check if a string is a palindrome."
   ]
  },
  {
   "cell_type": "code",
   "execution_count": 7,
   "id": "2b868fb3",
   "metadata": {},
   "outputs": [
    {
     "name": "stdout",
     "output_type": "stream",
     "text": [
      "ANNA- Is Palindrome\n",
      "FROCK- Not Palindrome\n"
     ]
    }
   ],
   "source": [
    "# Your code here\n",
    "def Palindrome(P):\n",
    "    if P[::1] == P[::-1]:\n",
    "        return \"Is Palindrome\"\n",
    "    else:\n",
    "        return \"Not Palindrome\"\n",
    "    \n",
    "Name = \"ANNA\"\n",
    "Word = \"FROCK\"\n",
    "print(\"ANNA-\", Palindrome(Name))\n",
    "print(\"FROCK-\", Palindrome(Word))"
   ]
  },
  {
   "cell_type": "markdown",
   "id": "5f2f3791",
   "metadata": {},
   "source": [
    "### Question 7\n",
    "Write a function to count vowels in a string."
   ]
  },
  {
   "cell_type": "code",
   "execution_count": 8,
   "id": "73fefa50",
   "metadata": {},
   "outputs": [
    {
     "name": "stdout",
     "output_type": "stream",
     "text": [
      "The no. of vowels in given word is:  5\n",
      "The no. of vowels in given word is:  0\n"
     ]
    }
   ],
   "source": [
    "# Your code here\n",
    "def Vowels(v):\n",
    "    vowels = [\"a\", \"e\", \"i\", \"o\", \"u\"]\n",
    "    \n",
    "    \n",
    "    count = 0\n",
    "    for i in v:\n",
    "        if i in vowels:\n",
    "            count = count + 1\n",
    "    return count\n",
    "\n",
    "print(\"The no. of vowels in given word is: \", Vowels(\"abcdefghijklmnopqrstuvwxyz\"))\n",
    "print(\"The no. of vowels in given word is: \", Vowels(\"myths\"))\n",
    "\n",
    "\n",
    "\n",
    "\n",
    "\n"
   ]
  },
  {
   "cell_type": "markdown",
   "id": "0d3a9996",
   "metadata": {},
   "source": [
    "### Question 8\n",
    "Write a function that returns the sum of a list."
   ]
  },
  {
   "cell_type": "code",
   "execution_count": 9,
   "id": "ab6afc66",
   "metadata": {},
   "outputs": [
    {
     "name": "stdout",
     "output_type": "stream",
     "text": [
      "The sum of numbers is:  21\n",
      "The sum of numbers is:  15\n"
     ]
    }
   ],
   "source": [
    "# Your code here\n",
    "def Sum_of_numbers(list):\n",
    "    return sum(list)\n",
    "\n",
    "Numbers = [1,2,3,4,5,6]\n",
    "print(\"The sum of numbers is: \", Sum_of_numbers(Numbers))\n",
    "print(\"The sum of numbers is: \", Sum_of_numbers([1, 3, 5, 6]))\n",
    "    "
   ]
  },
  {
   "cell_type": "markdown",
   "id": "f6682500",
   "metadata": {},
   "source": [
    "### Question 9\n",
    "Write a function to find the smallest number in a list."
   ]
  },
  {
   "cell_type": "code",
   "execution_count": 10,
   "id": "6798a641",
   "metadata": {},
   "outputs": [
    {
     "name": "stdout",
     "output_type": "stream",
     "text": [
      "The minimum number in the list is:  43\n"
     ]
    }
   ],
   "source": [
    "# Your code here\n",
    "def small_num(lst):\n",
    "    return min(lst)\n",
    "\n",
    "print(\"The minimum number in the list is: \",small_num([56, 82, 61, 59, 43]))"
   ]
  },
  {
   "cell_type": "markdown",
   "id": "fb11e683",
   "metadata": {},
   "source": [
    "### Question 10\n",
    "Write a function to remove duplicates from a list."
   ]
  },
  {
   "cell_type": "code",
   "execution_count": 11,
   "id": "7c53f88c",
   "metadata": {},
   "outputs": [
    {
     "name": "stdout",
     "output_type": "stream",
     "text": [
      "The list without duplicates is:  {1, 2, 3, 4, 5, 'a'}\n",
      "The list without duplicates is: ['s', 'a', 'f']\n"
     ]
    }
   ],
   "source": [
    "# Your code here\n",
    "def remove_duplicates(lst):\n",
    "    return set(lst)\n",
    "\n",
    "numbers = [1, 2, 2, 3, 4, 4, 5, \"a\"]\n",
    "print(\"The list without duplicates is: \", remove_duplicates(numbers) )\n",
    "\n",
    "#another method\n",
    "def remove_dup(lst):\n",
    "    unique_items = []\n",
    "    for item in lst:\n",
    "        if item not in unique_items:\n",
    "            unique_items.append(item)\n",
    "    return unique_items\n",
    "\n",
    "\n",
    "numbers = [\"s\", \"a\", \"a\", \"f\"]\n",
    "result = remove_dup(numbers)\n",
    "print(\"The list without duplicates is:\", result)"
   ]
  },
  {
   "cell_type": "markdown",
   "id": "9c380a5c",
   "metadata": {},
   "source": [
    "### Question 11\n",
    "Write a function to sort a list in ascending order."
   ]
  },
  {
   "cell_type": "code",
   "execution_count": 27,
   "id": "8e43832f",
   "metadata": {},
   "outputs": [
    {
     "name": "stdout",
     "output_type": "stream",
     "text": [
      "In Ascending order:  [0, 1, 3, 4, 4, 6, 6, 7, 8, 9]\n",
      "In Ascending order:  ['a', 'b', 'd', 'g', 'z']\n"
     ]
    }
   ],
   "source": [
    "# Your code here\n",
    "def Acsending_order(list):\n",
    "     return sorted(list)\n",
    "\n",
    "numbers = [1, 8, 9, 0, 4, 3, 6, 7, 4, 6]\n",
    "words = [\"a\", \"z\", \"d\", \"g\", \"b\"]\n",
    "print(\"In Ascending order: \",Acsending_order(numbers))\n",
    "print(\"In Ascending order: \",Acsending_order(words) )\n"
   ]
  },
  {
   "cell_type": "markdown",
   "id": "1270c91c",
   "metadata": {},
   "source": [
    "### Question 12\n",
    "Write a function that returns the length of a string."
   ]
  },
  {
   "cell_type": "code",
   "execution_count": 28,
   "id": "87f35472",
   "metadata": {},
   "outputs": [
    {
     "name": "stdout",
     "output_type": "stream",
     "text": [
      "Length of the String is:  22\n",
      "Length of the String is:  13\n"
     ]
    }
   ],
   "source": [
    "# Your code here\n",
    "def Length(leth):\n",
    "    return len(leth)\n",
    "\n",
    "sentence = \" I am Anna Maria Lopus\"\n",
    "print(\"Length of the String is: \",Length(sentence))\n",
    "print(\"Length of the String is: \",Length(\"Deforestation\"))\n"
   ]
  },
  {
   "cell_type": "markdown",
   "id": "9a8e3d28",
   "metadata": {},
   "source": [
    "### Question 13\n",
    "Write a function to count words in a sentence."
   ]
  },
  {
   "cell_type": "code",
   "execution_count": 54,
   "id": "e6f996ef",
   "metadata": {},
   "outputs": [
    {
     "name": "stdout",
     "output_type": "stream",
     "text": [
      "No. of words:  7\n",
      "Count of words is 5\n"
     ]
    }
   ],
   "source": [
    "# Your code here\n",
    "def Counts_of_words(sentence):\n",
    "    words = sentence.split()\n",
    "    return len(words)\n",
    "\n",
    "print(\"No. of words: \", Counts_of_words(\"The Gardens Are Filled With Beautiful Flowers\") )\n",
    "\n",
    "# Another method\n",
    "def c_o_w(sen):\n",
    "    words = sen.split()\n",
    "\n",
    "    count = 0\n",
    "    for word in words:\n",
    "        count = count + 1\n",
    "    return count \n",
    "       \n",
    "print(\"Count of words is\", c_o_w(\"Sun Rises In The East\"))\n",
    "\n",
    "    \n"
   ]
  },
  {
   "cell_type": "markdown",
   "id": "430c2e4a",
   "metadata": {},
   "source": [
    "### Question 14\n",
    "Write a function to convert Celsius to Fahrenheit."
   ]
  },
  {
   "cell_type": "code",
   "execution_count": 15,
   "id": "b710b0bd",
   "metadata": {},
   "outputs": [
    {
     "name": "stdout",
     "output_type": "stream",
     "text": [
      "Fahrenheit-  209.48\n"
     ]
    }
   ],
   "source": [
    "# Your code here\n",
    "def cel_to_fah(cf):\n",
    "    return (cf * (9/5)) +32\n",
    "\n",
    "temperature = 98.6\n",
    "print(\"Fahrenheit- \", cel_to_fah(temperature))"
   ]
  },
  {
   "cell_type": "markdown",
   "id": "acefe5e3",
   "metadata": {},
   "source": [
    "### Question 15\n",
    "Write a function to check if a number is prime."
   ]
  },
  {
   "cell_type": "code",
   "execution_count": 16,
   "id": "b700abae",
   "metadata": {},
   "outputs": [
    {
     "name": "stdout",
     "output_type": "stream",
     "text": [
      "Number  Not Defined\n",
      "Number  Is Prime\n",
      "Number  Is Not Prime\n"
     ]
    }
   ],
   "source": [
    "# Your code here\n",
    "def prime_number(a):\n",
    "    \n",
    "    if a <= 1:\n",
    "        return \"Not Defined\"\n",
    "\n",
    "    for i in range (2, a):\n",
    "            if a % i == 0:\n",
    "                return \"Is Not Prime\"\n",
    "            else:\n",
    "                 return \"Is Prime\"\n",
    "    \n",
    "print(\"Number \",prime_number(1))\n",
    "print(\"Number \",prime_number(11))\n",
    "print(\"Number \",prime_number(8))\n"
   ]
  },
  {
   "cell_type": "markdown",
   "id": "b63452cb",
   "metadata": {},
   "source": [
    "### Question 16\n",
    "Write a function to return all even numbers in a list."
   ]
  },
  {
   "cell_type": "code",
   "execution_count": 17,
   "id": "9d1fc968",
   "metadata": {},
   "outputs": [
    {
     "name": "stdout",
     "output_type": "stream",
     "text": [
      "Even Numbers are:  [46, 62, 78, 100]\n"
     ]
    }
   ],
   "source": [
    "# Your code here\n",
    "def Even_numbers(lst):\n",
    "    even_numbers = []  \n",
    "    for num in lst: \n",
    "        if num % 2 == 0: \n",
    "            even_numbers.append(num)  \n",
    "    return even_numbers            \n",
    "        \n",
    "numbers = [1, 27, 33, 46, 55, 62, 78, 100, 101, 3]\n",
    "print(\"Even Numbers are: \", Even_numbers(numbers)) \n",
    "            "
   ]
  },
  {
   "cell_type": "markdown",
   "id": "aca524d9",
   "metadata": {},
   "source": [
    "### Question 17\n",
    "Write a function to return the nth Fibonacci number."
   ]
  },
  {
   "cell_type": "code",
   "execution_count": 56,
   "id": "97dc4e87",
   "metadata": {},
   "outputs": [
    {
     "name": "stdout",
     "output_type": "stream",
     "text": [
      "The nth Fibonacci number is:  610\n"
     ]
    }
   ],
   "source": [
    "# Your code here\n",
    "def Fibonacci_Number(n):\n",
    "    if n <= 0:\n",
    "        return \"Input must be a positive integer.\"\n",
    "    elif n == 1:\n",
    "        return 0  \n",
    "    elif n == 2:\n",
    "        return 1  \n",
    "\n",
    "    a, b = 0, 1 \n",
    "    for i in range(3, n + 1): \n",
    "        a, b = b, a + b  \n",
    "    return b\n",
    "\n",
    "print(\"The nth Fibonacci number is: \", Fibonacci_Number(16))\n",
    "\n"
   ]
  },
  {
   "cell_type": "markdown",
   "id": "29c847dc",
   "metadata": {},
   "source": [
    "### Question 18\n",
    "Write a function to calculate the average of a list."
   ]
  },
  {
   "cell_type": "code",
   "execution_count": 19,
   "id": "9adc9fd2",
   "metadata": {},
   "outputs": [
    {
     "name": "stdout",
     "output_type": "stream",
     "text": [
      " Average:  5.333333333333333\n"
     ]
    }
   ],
   "source": [
    "# Your code here\n",
    "def Avg_of_list(lst):\n",
    "    return (sum(lst)/len(lst))\n",
    "\n",
    "Numbers = [2, 6, 8, 9, 4, 3]\n",
    "print(\" Average: \", Avg_of_list(Numbers))"
   ]
  },
  {
   "cell_type": "markdown",
   "id": "420240fb",
   "metadata": {},
   "source": [
    "### Question 19\n",
    "Write a function that returns a dictionary of character counts."
   ]
  },
  {
   "cell_type": "code",
   "execution_count": 60,
   "id": "95cafc54",
   "metadata": {},
   "outputs": [
    {
     "name": "stdout",
     "output_type": "stream",
     "text": [
      "Character counts:  {'G': 1, 'o': 3, 'd': 1, ' ': 1, 'M': 1, 'r': 1, 'n': 2, 'i': 1, 'g': 1}\n"
     ]
    }
   ],
   "source": [
    "# Your code here\n",
    "def character_counts(lst):\n",
    "    counts = {}  \n",
    "    for i in lst:\n",
    "        if i in counts:  \n",
    "            counts[i] += 1\n",
    "        else:\n",
    "            counts[i] = 1  \n",
    "    return counts\n",
    "\n",
    "print(\"Character counts: \",character_counts(\"Good Morning\") )\n",
    "\n"
   ]
  },
  {
   "cell_type": "markdown",
   "id": "17629a07",
   "metadata": {},
   "source": [
    "### Question 20\n",
    "Write a function that returns True if all list elements are unique."
   ]
  },
  {
   "cell_type": "code",
   "execution_count": 21,
   "id": "fe4f8820",
   "metadata": {},
   "outputs": [
    {
     "name": "stdout",
     "output_type": "stream",
     "text": [
      "Given elements are unique:  False\n",
      "Given elements are unique:  True\n"
     ]
    }
   ],
   "source": [
    "# Your code here\n",
    "def Unique(lst):\n",
    "    for elements in lst:\n",
    "        if len(lst) == len(set(lst)):\n",
    "            return \"True\"\n",
    "        else:\n",
    "            return \"False\"\n",
    "    \n",
    "print(\"Given elements are unique: \", Unique([1, 2, 4, 6, 2, 5, 5]))\n",
    "print(\"Given elements are unique: \", Unique([\"a\", \"b\", \"c\", \"d\", \"e\"]))\n"
   ]
  },
  {
   "cell_type": "code",
   "execution_count": null,
   "id": "0497b7d0",
   "metadata": {},
   "outputs": [],
   "source": []
  }
 ],
 "metadata": {
  "kernelspec": {
   "display_name": "Python 3",
   "language": "python",
   "name": "python3"
  },
  "language_info": {
   "codemirror_mode": {
    "name": "ipython",
    "version": 3
   },
   "file_extension": ".py",
   "mimetype": "text/x-python",
   "name": "python",
   "nbconvert_exporter": "python",
   "pygments_lexer": "ipython3",
   "version": "3.13.2"
  }
 },
 "nbformat": 4,
 "nbformat_minor": 5
}
